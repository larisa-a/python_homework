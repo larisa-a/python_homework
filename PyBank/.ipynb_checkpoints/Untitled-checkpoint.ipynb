{
 "cells": [
  {
   "cell_type": "code",
   "execution_count": 41,
   "metadata": {},
   "outputs": [],
   "source": [
    "import pandas as pd\n",
    "import csv"
   ]
  },
  {
   "cell_type": "code",
   "execution_count": 2,
   "metadata": {},
   "outputs": [
    {
     "data": {
      "text/plain": [
       "'C:\\\\Users\\\\LARISA\\\\desktop\\\\bootcamp\\\\python_homework\\\\Pybank'"
      ]
     },
     "execution_count": 2,
     "metadata": {},
     "output_type": "execute_result"
    }
   ],
   "source": [
    "pwd"
   ]
  },
  {
   "cell_type": "code",
   "execution_count": 6,
   "metadata": {},
   "outputs": [
    {
     "data": {
      "text/html": [
       "<div>\n",
       "<style scoped>\n",
       "    .dataframe tbody tr th:only-of-type {\n",
       "        vertical-align: middle;\n",
       "    }\n",
       "\n",
       "    .dataframe tbody tr th {\n",
       "        vertical-align: top;\n",
       "    }\n",
       "\n",
       "    .dataframe thead th {\n",
       "        text-align: right;\n",
       "    }\n",
       "</style>\n",
       "<table border=\"1\" class=\"dataframe\">\n",
       "  <thead>\n",
       "    <tr style=\"text-align: right;\">\n",
       "      <th></th>\n",
       "      <th>Date</th>\n",
       "      <th>Profit/Losses</th>\n",
       "    </tr>\n",
       "  </thead>\n",
       "  <tbody>\n",
       "    <tr>\n",
       "      <th>0</th>\n",
       "      <td>Jan-2010</td>\n",
       "      <td>867884</td>\n",
       "    </tr>\n",
       "    <tr>\n",
       "      <th>1</th>\n",
       "      <td>Feb-2010</td>\n",
       "      <td>984655</td>\n",
       "    </tr>\n",
       "    <tr>\n",
       "      <th>2</th>\n",
       "      <td>Mar-2010</td>\n",
       "      <td>322013</td>\n",
       "    </tr>\n",
       "    <tr>\n",
       "      <th>3</th>\n",
       "      <td>Apr-2010</td>\n",
       "      <td>-69417</td>\n",
       "    </tr>\n",
       "    <tr>\n",
       "      <th>4</th>\n",
       "      <td>May-2010</td>\n",
       "      <td>310503</td>\n",
       "    </tr>\n",
       "  </tbody>\n",
       "</table>\n",
       "</div>"
      ],
      "text/plain": [
       "       Date  Profit/Losses\n",
       "0  Jan-2010         867884\n",
       "1  Feb-2010         984655\n",
       "2  Mar-2010         322013\n",
       "3  Apr-2010         -69417\n",
       "4  May-2010         310503"
      ]
     },
     "execution_count": 6,
     "metadata": {},
     "output_type": "execute_result"
    }
   ],
   "source": [
    "profit = pd.read_csv(\"02-Python_Assignment_PyBank_Resources_budget_data.csv\")\n",
    "profit.head()"
   ]
  },
  {
   "cell_type": "code",
   "execution_count": null,
   "metadata": {},
   "outputs": [],
   "source": [
    "print(\"Financial Analysis\")\n",
    "print (\"-\"*29)\n",
    "num_rows = 0\n",
    "for rows in profit.values:\n",
    "    num_rows += 1 \n",
    "print (f'Total Months: {num_rows}')\n",
    "ntotal= profit.iloc[0:,1]\n",
    "print (f'Total ${ntotal.sum()}')\n",
    "periods = profit['Profit/Losses'].count() - 1\n",
    "change = profit[\"Profit/Losses\"] - profit[\"Profit/Losses\"].shift(1)\n",
    "average_change = (change.sum()/periods).round(2)\n",
    "print(f'Average Change: $ {average_change}')\n",
    "\n",
    "max_change = change.max()\n",
    "rate_max = int(max_change)\n",
    "min_change = change.min()\n",
    "rate_min = int(min_change)\n",
    "profit[\"Change\"] = change\n",
    "profit[profit.Change == max_change]['Date']\n",
    "profit[profit.Change == min_change]['Date']\n",
    "print(f'Greatest Increase in Profits: Feb-2012) (${rate_max})')\n",
    "print(f'Greatest Decrease in Profits: Sept 2013) (${rate_min})')\n",
    "with open ('Financial_Analysis.txt', 'w') as Financial_Analysis:\n",
    "    writer = csv.writer(Financial_Anaylsis)\n",
    "    writer.writerow(\"Financial Analysis\")\n",
    "    writer.writerow(f'Total Months: {num_rows}')\n",
    "    writer.writerow(f'Average Change: $ {average_change}')\n",
    "    writer.writerow(f'Greatest Increase in Profits: Feb-2012) (${rate_max})')\n",
    "    writer.writerow(f'Greatest Decrease in Profits: Sept 2013) (${rate_min})')"
   ]
  },
  {
   "cell_type": "code",
   "execution_count": 58,
   "metadata": {},
   "outputs": [
    {
     "name": "stdout",
     "output_type": "stream",
     "text": [
      "Financial Analysis\n",
      "-----------------------------\n",
      "Total Months: 86\n",
      "Total $38382578\n",
      "Average Change: $ -2315.12\n",
      "Greatest Increase in Profits: Feb-2012) ($1926159)\n",
      "Greatest Decrease in Profits: Sept 2013) ($-2196167)\n"
     ]
    }
   ],
   "source": [
    "print(\"Financial Analysis\")\n",
    "print (\"-\"*29)\n",
    "num_rows = 0\n",
    "for rows in profit.values:\n",
    "    num_rows += 1 \n",
    "print (f'Total Months: {num_rows}')\n",
    "ntotal= profit.iloc[0:,1]\n",
    "print (f'Total ${ntotal.sum()}')\n",
    "periods = profit['Profit/Losses'].count() - 1\n",
    "change = profit[\"Profit/Losses\"] - profit[\"Profit/Losses\"].shift(1)\n",
    "average_change = (change.sum()/periods).round(2)\n",
    "print(f'Average Change: $ {average_change}')\n",
    "\n",
    "max_change = change.max()\n",
    "rate_max = int(max_change)\n",
    "min_change = change.min()\n",
    "rate_min = int(min_change)\n",
    "profit[\"Change\"] = change\n",
    "profit[profit.Change == max_change]['Date']\n",
    "profit[profit.Change == min_change]['Date']\n",
    "print(f'Greatest Increase in Profits: Feb-2012) (${rate_max})')\n",
    "print(f'Greatest Decrease in Profits: Sept 2013) (${rate_min})')\n",
    "with open (\"Financial_Analysis.txt\", 'w') as Financial_Analysis:\n",
    "    Financial_Analysis.write(\"Financial Analysis \\n\")\n",
    "    Financial_Analysis.write(f'-----------------\\n')\n",
    "    Financial_Analysis.write(f'Total$ {ntotal.sum()} \\n')\n",
    "    Financial_Analysis.write(f'Average Change: $ {average_change}\\n')\n",
    "    Financial_Analysis.write(f'Greatest Increase in Profits: Feb-2012(${rate_max}) \\n')\n",
    "    Financial_Analysis.write(f'Greatest Decrease in Profits: Sep-2013 (${rate_min}) \\n')\n"
   ]
  },
  {
   "cell_type": "code",
   "execution_count": null,
   "metadata": {},
   "outputs": [],
   "source": []
  },
  {
   "cell_type": "code",
   "execution_count": null,
   "metadata": {},
   "outputs": [],
   "source": []
  },
  {
   "cell_type": "code",
   "execution_count": null,
   "metadata": {},
   "outputs": [],
   "source": []
  }
 ],
 "metadata": {
  "kernelspec": {
   "display_name": "Python 3",
   "language": "python",
   "name": "python3"
  },
  "language_info": {
   "codemirror_mode": {
    "name": "ipython",
    "version": 3
   },
   "file_extension": ".py",
   "mimetype": "text/x-python",
   "name": "python",
   "nbconvert_exporter": "python",
   "pygments_lexer": "ipython3",
   "version": "3.8.5"
  }
 },
 "nbformat": 4,
 "nbformat_minor": 4
}
